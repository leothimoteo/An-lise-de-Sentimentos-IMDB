{
 "cells": [
  {
   "cell_type": "markdown",
   "metadata": {},
   "source": [
    "## Importação das bibliotecas"
   ]
  },
  {
   "cell_type": "code",
   "execution_count": 1,
   "metadata": {},
   "outputs": [],
   "source": [
    "import pandas as pd\n",
    "import numpy as np\n",
    "import nltk\n",
    "from nltk.tokenize import word_tokenize\n",
    "from nltk import pos_tag\n",
    "from nltk.corpus import stopwords\n",
    "from nltk.stem import WordNetLemmatizer\n",
    "from sklearn.preprocessing import LabelEncoder\n",
    "from collections import defaultdict\n",
    "from nltk.corpus import wordnet as wn\n",
    "from sklearn.feature_extraction.text import TfidfVectorizer\n",
    "from sklearn import model_selection, svm, naive_bayes\n",
    "from sklearn.ensemble import RandomForestClassifier\n",
    "\n",
    "from sklearn.metrics import accuracy_score, f1_score, precision_score, recall_score, classification_report, confusion_matrix\n",
    "import time\n",
    "import re"
   ]
  },
  {
   "cell_type": "markdown",
   "metadata": {},
   "source": [
    "### set da random seed"
   ]
  },
  {
   "cell_type": "code",
   "execution_count": 2,
   "metadata": {},
   "outputs": [],
   "source": [
    "np.random.seed(500)"
   ]
  },
  {
   "cell_type": "markdown",
   "metadata": {},
   "source": [
    "## Importar dataset previamente tratado"
   ]
  },
  {
   "cell_type": "code",
   "execution_count": 3,
   "metadata": {},
   "outputs": [],
   "source": [
    "corpus_treino = pd.read_csv('data/corpus_treino_regex.csv', sep = ';')"
   ]
  },
  {
   "cell_type": "code",
   "execution_count": 6,
   "metadata": {},
   "outputs": [
    {
     "data": {
      "text/html": [
       "<div>\n",
       "<style scoped>\n",
       "    .dataframe tbody tr th:only-of-type {\n",
       "        vertical-align: middle;\n",
       "    }\n",
       "\n",
       "    .dataframe tbody tr th {\n",
       "        vertical-align: top;\n",
       "    }\n",
       "\n",
       "    .dataframe thead th {\n",
       "        text-align: right;\n",
       "    }\n",
       "</style>\n",
       "<table border=\"1\" class=\"dataframe\">\n",
       "  <thead>\n",
       "    <tr style=\"text-align: right;\">\n",
       "      <th></th>\n",
       "      <th>Unnamed: 0</th>\n",
       "      <th>id</th>\n",
       "      <th>review</th>\n",
       "      <th>sentiment</th>\n",
       "      <th>review_final</th>\n",
       "    </tr>\n",
       "  </thead>\n",
       "  <tbody>\n",
       "    <tr>\n",
       "      <th>0</th>\n",
       "      <td>0</td>\n",
       "      <td>5814_8</td>\n",
       "      <td>['with', 'all', 'this', 'stuff', 'going', 'dow...</td>\n",
       "      <td>1</td>\n",
       "      <td>['stuff', 'go', 'moment', 'mj', 'start', 'list...</td>\n",
       "    </tr>\n",
       "    <tr>\n",
       "      <th>1</th>\n",
       "      <td>1</td>\n",
       "      <td>2381_9</td>\n",
       "      <td>['\\\\the', 'classic', 'war', 'of', 'the', 'worl...</td>\n",
       "      <td>1</td>\n",
       "      <td>['classic', 'war', 'timothy', 'hines', 'entert...</td>\n",
       "    </tr>\n",
       "    <tr>\n",
       "      <th>2</th>\n",
       "      <td>2</td>\n",
       "      <td>7759_3</td>\n",
       "      <td>['the', 'film', 'starts', 'with', 'a', 'manage...</td>\n",
       "      <td>0</td>\n",
       "      <td>['film', 'start', 'manager', 'nicholas', 'bell...</td>\n",
       "    </tr>\n",
       "    <tr>\n",
       "      <th>3</th>\n",
       "      <td>3</td>\n",
       "      <td>3630_4</td>\n",
       "      <td>['it', 'must', 'be', 'assumed', 'that', 'those...</td>\n",
       "      <td>0</td>\n",
       "      <td>['must', 'assume', 'praise', 'film', 'great', ...</td>\n",
       "    </tr>\n",
       "    <tr>\n",
       "      <th>4</th>\n",
       "      <td>4</td>\n",
       "      <td>9495_8</td>\n",
       "      <td>['superbly', 'trashy', 'and', 'wondrously', 'u...</td>\n",
       "      <td>1</td>\n",
       "      <td>['superbly', 'trashy', 'wondrously', 'unpreten...</td>\n",
       "    </tr>\n",
       "  </tbody>\n",
       "</table>\n",
       "</div>"
      ],
      "text/plain": [
       "   Unnamed: 0      id                                             review  \\\n",
       "0           0  5814_8  ['with', 'all', 'this', 'stuff', 'going', 'dow...   \n",
       "1           1  2381_9  ['\\\\the', 'classic', 'war', 'of', 'the', 'worl...   \n",
       "2           2  7759_3  ['the', 'film', 'starts', 'with', 'a', 'manage...   \n",
       "3           3  3630_4  ['it', 'must', 'be', 'assumed', 'that', 'those...   \n",
       "4           4  9495_8  ['superbly', 'trashy', 'and', 'wondrously', 'u...   \n",
       "\n",
       "   sentiment                                       review_final  \n",
       "0          1  ['stuff', 'go', 'moment', 'mj', 'start', 'list...  \n",
       "1          1  ['classic', 'war', 'timothy', 'hines', 'entert...  \n",
       "2          0  ['film', 'start', 'manager', 'nicholas', 'bell...  \n",
       "3          0  ['must', 'assume', 'praise', 'film', 'great', ...  \n",
       "4          1  ['superbly', 'trashy', 'wondrously', 'unpreten...  "
      ]
     },
     "execution_count": 6,
     "metadata": {},
     "output_type": "execute_result"
    }
   ],
   "source": [
    "corpus_treino.head()"
   ]
  },
  {
   "cell_type": "markdown",
   "metadata": {},
   "source": [
    "## Separar base em treino e teste\n",
    "### 70% treino e 30% teste"
   ]
  },
  {
   "cell_type": "code",
   "execution_count": 4,
   "metadata": {},
   "outputs": [],
   "source": [
    "Train_X, Test_X, Train_Y, Test_Y = model_selection.train_test_split(corpus_treino['review_final'], corpus_treino['sentiment'],test_size=0.3)"
   ]
  },
  {
   "cell_type": "markdown",
   "metadata": {},
   "source": [
    "## Encoding"
   ]
  },
  {
   "cell_type": "code",
   "execution_count": 5,
   "metadata": {},
   "outputs": [],
   "source": [
    "Encoder = LabelEncoder()\n",
    "Train_Y = Encoder.fit_transform(Train_Y)\n",
    "Test_Y = Encoder.fit_transform(Test_Y)"
   ]
  },
  {
   "cell_type": "markdown",
   "metadata": {},
   "source": [
    "## Vetorização"
   ]
  },
  {
   "cell_type": "code",
   "execution_count": 6,
   "metadata": {},
   "outputs": [
    {
     "data": {
      "text/plain": [
       "TfidfVectorizer(analyzer='word', binary=False, decode_error='strict',\n",
       "        dtype=<class 'numpy.float64'>, encoding='utf-8', input='content',\n",
       "        lowercase=True, max_df=1.0, max_features=5000, min_df=1,\n",
       "        ngram_range=(1, 1), norm='l2', preprocessor=None, smooth_idf=True,\n",
       "        stop_words=None, strip_accents=None, sublinear_tf=False,\n",
       "        token_pattern='(?u)\\\\b\\\\w\\\\w+\\\\b', tokenizer=None, use_idf=True,\n",
       "        vocabulary=None)"
      ]
     },
     "execution_count": 6,
     "metadata": {},
     "output_type": "execute_result"
    }
   ],
   "source": [
    "Tfidf_vect = TfidfVectorizer(max_features=5000)\n",
    "Tfidf_vect.fit(corpus_treino['review_final'])"
   ]
  },
  {
   "cell_type": "code",
   "execution_count": 7,
   "metadata": {},
   "outputs": [],
   "source": [
    "Train_X_Tfidf = Tfidf_vect.transform(Train_X)\n",
    "Test_X_Tfidf = Tfidf_vect.transform(Test_X)"
   ]
  },
  {
   "cell_type": "markdown",
   "metadata": {},
   "source": [
    "## Aplicação dos modelos"
   ]
  },
  {
   "cell_type": "markdown",
   "metadata": {},
   "source": [
    "### Vector Suport Machine"
   ]
  },
  {
   "cell_type": "code",
   "execution_count": 26,
   "metadata": {},
   "outputs": [],
   "source": [
    "SVM = svm.SVC(C=1.0, kernel='linear', degree=3, gamma='auto')\n",
    "SVM.fit(Train_X_Tfidf,Train_Y)\n",
    "\n",
    "# predict the labels on validation dataset\n",
    "predictions_SVM = SVM.predict(Test_X_Tfidf)"
   ]
  },
  {
   "cell_type": "markdown",
   "metadata": {},
   "source": [
    "### Naive Bayes"
   ]
  },
  {
   "cell_type": "code",
   "execution_count": 27,
   "metadata": {},
   "outputs": [],
   "source": [
    "Naive = naive_bayes.MultinomialNB()\n",
    "Naive.fit(Train_X_Tfidf,Train_Y)\n",
    "# predict the labels on validation dataset\n",
    "predictions_NB = Naive.predict(Test_X_Tfidf)"
   ]
  },
  {
   "cell_type": "markdown",
   "metadata": {},
   "source": [
    "### Random Forest"
   ]
  },
  {
   "cell_type": "code",
   "execution_count": 9,
   "metadata": {},
   "outputs": [],
   "source": [
    "classifier = RandomForestClassifier(n_estimators=1000, random_state=0)  \n",
    "classifier.fit(Train_X_Tfidf, Train_Y)  \n",
    "predictions_RF = classifier.predict(Test_X_Tfidf)"
   ]
  },
  {
   "cell_type": "markdown",
   "metadata": {},
   "source": [
    "## Obtenção dos SCORES de cada modelo"
   ]
  },
  {
   "cell_type": "code",
   "execution_count": 24,
   "metadata": {},
   "outputs": [
    {
     "data": {
      "text/plain": [
       "<Figure size 216x216 with 0 Axes>"
      ]
     },
     "execution_count": 24,
     "metadata": {},
     "output_type": "execute_result"
    },
    {
     "data": {
      "text/plain": [
       "<Figure size 216x216 with 0 Axes>"
      ]
     },
     "metadata": {},
     "output_type": "display_data"
    }
   ],
   "source": [
    "import matplotlib.pyplot as plt\n",
    "import seaborn as sns\n",
    "plt.figure(figsize = (3,3))"
   ]
  },
  {
   "cell_type": "code",
   "execution_count": 28,
   "metadata": {},
   "outputs": [
    {
     "name": "stdout",
     "output_type": "stream",
     "text": [
      "SVM Accuracy Score ->  87.70666666666666\n",
      "SVM f1 Score ->  87.70213318104253\n",
      "SVM Precision Score ->  87.69677506218217\n",
      "SVM Recall Score ->  87.71299766875286\n"
     ]
    }
   ],
   "source": [
    "# Use accuracy_score function to get the accuracy\n",
    "print(\"SVM Accuracy Score -> \",accuracy_score(predictions_SVM, Test_Y)*100)\n",
    "print(\"SVM f1 Score -> \",f1_score(predictions_SVM, Test_Y, average=\"macro\")*100)\n",
    "print(\"SVM Precision Score -> \",precision_score(predictions_SVM, Test_Y, average=\"macro\")*100)\n",
    "print(\"SVM Recall Score -> \",recall_score(predictions_SVM, Test_Y, average=\"macro\")*100)"
   ]
  },
  {
   "cell_type": "code",
   "execution_count": 29,
   "metadata": {},
   "outputs": [
    {
     "name": "stdout",
     "output_type": "stream",
     "text": [
      "[[3217  482]\n",
      " [ 440 3361]]\n"
     ]
    }
   ],
   "source": [
    "print(confusion_matrix(Test_Y,predictions_SVM))  "
   ]
  },
  {
   "cell_type": "code",
   "execution_count": 30,
   "metadata": {},
   "outputs": [
    {
     "data": {
      "text/plain": [
       "<matplotlib.axes._subplots.AxesSubplot at 0x7fe6b3ff17b8>"
      ]
     },
     "execution_count": 30,
     "metadata": {},
     "output_type": "execute_result"
    },
    {
     "data": {
      "image/png": "[encoded data removed]",
      "text/plain": [
       "<Figure size 432x288 with 2 Axes>"
      ]
     },
     "metadata": {
      "needs_background": "light"
     },
     "output_type": "display_data"
    }
   ],
   "source": [
    "cm = confusion_matrix(Test_Y,predictions_SVM)\n",
    "sns.heatmap(cm, annot = True, vmin=0, fmt='g', xticklabels=['positivo', 'negativo'], yticklabels=['positivo', 'negativo'])"
   ]
  },
  {
   "cell_type": "code",
   "execution_count": 31,
   "metadata": {},
   "outputs": [
    {
     "name": "stdout",
     "output_type": "stream",
     "text": [
      "NB Accuracy Score ->  85.01333333333334\n",
      "NB f1 Score ->  85.01195203483286\n",
      "NB Precision Score ->  85.01600189304347\n",
      "NB Recall Score ->  85.01062326647897\n"
     ]
    }
   ],
   "source": [
    "print(\"NB Accuracy Score -> \",accuracy_score(predictions_NB, Test_Y)*100)\n",
    "print(\"NB f1 Score -> \",f1_score(predictions_NB, Test_Y, average=\"macro\")*100)\n",
    "print(\"NB Precision Score -> \",precision_score(predictions_NB, Test_Y, average=\"macro\")*100)\n",
    "print(\"NB Recall Score -> \",recall_score(predictions_NB, Test_Y, average=\"macro\")*100)"
   ]
  },
  {
   "cell_type": "code",
   "execution_count": 32,
   "metadata": {},
   "outputs": [
    {
     "name": "stdout",
     "output_type": "stream",
     "text": [
      "[[3152  547]\n",
      " [ 577 3224]]\n"
     ]
    }
   ],
   "source": [
    "print(confusion_matrix(Test_Y,predictions_NB))"
   ]
  },
  {
   "cell_type": "code",
   "execution_count": 33,
   "metadata": {},
   "outputs": [
    {
     "data": {
      "text/plain": [
       "<matplotlib.axes._subplots.AxesSubplot at 0x7fe6b3f780f0>"
      ]
     },
     "execution_count": 33,
     "metadata": {},
     "output_type": "execute_result"
    },
    {
     "data": {
      "image/png": "[encoded data removed]",
      "text/plain": [
       "<Figure size 432x288 with 2 Axes>"
      ]
     },
     "metadata": {
      "needs_background": "light"
     },
     "output_type": "display_data"
    }
   ],
   "source": [
    "cm = confusion_matrix(Test_Y,predictions_NB)\n",
    "sns.heatmap(cm, annot = True, vmin=0, fmt='g', xticklabels=['positivo', 'negativo'], yticklabels=['positivo', 'negativo'])"
   ]
  },
  {
   "cell_type": "code",
   "execution_count": 34,
   "metadata": {},
   "outputs": [
    {
     "name": "stdout",
     "output_type": "stream",
     "text": [
      "Random Forest Accuracy Score ->  85.02666666666666\n",
      "Random Forest f1 Score ->  85.02666427093295\n",
      "Random Forest Precision Score ->  85.041852007614\n",
      "Random Forest Recall Score ->  85.04111180242437\n"
     ]
    }
   ],
   "source": [
    "print(\"Random Forest Accuracy Score -> \",accuracy_score(predictions_RF, Test_Y)*100)\n",
    "print(\"Random Forest f1 Score -> \",f1_score(predictions_RF, Test_Y, average=\"macro\")*100)\n",
    "print(\"Random Forest Precision Score -> \",precision_score(predictions_RF, Test_Y, average=\"macro\")*100)\n",
    "print(\"Random Forest Recall Score -> \",recall_score(predictions_RF, Test_Y, average=\"macro\")*100)"
   ]
  },
  {
   "cell_type": "code",
   "execution_count": 35,
   "metadata": {},
   "outputs": [
    {
     "name": "stdout",
     "output_type": "stream",
     "text": [
      "[[3187  512]\n",
      " [ 611 3190]]\n"
     ]
    }
   ],
   "source": [
    "print(confusion_matrix(Test_Y,predictions_RF))  "
   ]
  },
  {
   "cell_type": "code",
   "execution_count": 36,
   "metadata": {},
   "outputs": [
    {
     "data": {
      "text/plain": [
       "<matplotlib.axes._subplots.AxesSubplot at 0x7fe6b3eef630>"
      ]
     },
     "execution_count": 36,
     "metadata": {},
     "output_type": "execute_result"
    },
    {
     "data": {
      "image/png": "[encoded data removed]",
      "text/plain": [
       "<Figure size 432x288 with 2 Axes>"
      ]
     },
     "metadata": {
      "needs_background": "light"
     },
     "output_type": "display_data"
    }
   ],
   "source": [
    "cm = confusion_matrix(Test_Y,predictions_RF)\n",
    "sns.heatmap(cm, annot = True, vmin=0, fmt='g', xticklabels=['positivo', 'negativo'], yticklabels=['positivo', 'negativo'])"
   ]
  }
 ],
 "metadata": {
  "kernelspec": {
   "display_name": "Python 3",
   "language": "python",
   "name": "python3"
  },
  "language_info": {
   "codemirror_mode": {
    "name": "ipython",
    "version": 3
   },
   "file_extension": ".py",
   "mimetype": "text/x-python",
   "name": "python",
   "nbconvert_exporter": "python",
   "pygments_lexer": "ipython3",
   "version": "3.6.6"
  }
 },
 "nbformat": 4,
 "nbformat_minor": 2
}
